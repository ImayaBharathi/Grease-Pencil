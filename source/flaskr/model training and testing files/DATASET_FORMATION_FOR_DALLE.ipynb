{
 "cells": [
  {
   "cell_type": "code",
   "execution_count": 76,
   "id": "vocal-conservative",
   "metadata": {},
   "outputs": [],
   "source": [
    "import pandas as pd\n",
    "import os\n",
    "import re\n",
    "import random\n",
    "import shutil"
   ]
  },
  {
   "cell_type": "code",
   "execution_count": 57,
   "id": "supported-dictionary",
   "metadata": {},
   "outputs": [],
   "source": [
    "complete_images_dataset = pd.read_csv(\"CharadesEgo_v1_train.csv\")"
   ]
  },
  {
   "cell_type": "code",
   "execution_count": 59,
   "id": "velvet-carnival",
   "metadata": {},
   "outputs": [
    {
     "data": {
      "text/plain": [
       "(6167, 13)"
      ]
     },
     "execution_count": 59,
     "metadata": {},
     "output_type": "execute_result"
    }
   ],
   "source": [
    "complete_images_dataset.shape"
   ]
  },
  {
   "cell_type": "code",
   "execution_count": 60,
   "id": "economic-discrimination",
   "metadata": {},
   "outputs": [
    {
     "data": {
      "text/html": [
       "<div>\n",
       "<style scoped>\n",
       "    .dataframe tbody tr th:only-of-type {\n",
       "        vertical-align: middle;\n",
       "    }\n",
       "\n",
       "    .dataframe tbody tr th {\n",
       "        vertical-align: top;\n",
       "    }\n",
       "\n",
       "    .dataframe thead th {\n",
       "        text-align: right;\n",
       "    }\n",
       "</style>\n",
       "<table border=\"1\" class=\"dataframe\">\n",
       "  <thead>\n",
       "    <tr style=\"text-align: right;\">\n",
       "      <th></th>\n",
       "      <th>id</th>\n",
       "      <th>subject</th>\n",
       "      <th>scene</th>\n",
       "      <th>quality</th>\n",
       "      <th>relevance</th>\n",
       "      <th>verified</th>\n",
       "      <th>script</th>\n",
       "      <th>objects</th>\n",
       "      <th>descriptions</th>\n",
       "      <th>actions</th>\n",
       "      <th>length</th>\n",
       "      <th>egocentric</th>\n",
       "      <th>charades_video</th>\n",
       "    </tr>\n",
       "  </thead>\n",
       "  <tbody>\n",
       "    <tr>\n",
       "      <th>0</th>\n",
       "      <td>D3TR8EGO</td>\n",
       "      <td>2Q9D</td>\n",
       "      <td>Closet / Walk-in closet / Spear closet</td>\n",
       "      <td>7.0</td>\n",
       "      <td>7.0</td>\n",
       "      <td>Yes</td>\n",
       "      <td>A person walks into the closet and turns on th...</td>\n",
       "      <td>cup/glass/bottle;door;food;glass of water;ligh...</td>\n",
       "      <td>The person in the video walks into a room and ...</td>\n",
       "      <td>c156 3.90 12.00;c061 8.20 12.50;c106 9.90 18.4...</td>\n",
       "      <td>31.79</td>\n",
       "      <td>Yes</td>\n",
       "      <td>1K0SU</td>\n",
       "    </tr>\n",
       "  </tbody>\n",
       "</table>\n",
       "</div>"
      ],
      "text/plain": [
       "         id subject                                   scene  quality  \\\n",
       "0  D3TR8EGO    2Q9D  Closet / Walk-in closet / Spear closet      7.0   \n",
       "\n",
       "   relevance verified                                             script  \\\n",
       "0        7.0      Yes  A person walks into the closet and turns on th...   \n",
       "\n",
       "                                             objects  \\\n",
       "0  cup/glass/bottle;door;food;glass of water;ligh...   \n",
       "\n",
       "                                        descriptions  \\\n",
       "0  The person in the video walks into a room and ...   \n",
       "\n",
       "                                             actions  length egocentric  \\\n",
       "0  c156 3.90 12.00;c061 8.20 12.50;c106 9.90 18.4...   31.79        Yes   \n",
       "\n",
       "  charades_video  \n",
       "0          1K0SU  "
      ]
     },
     "execution_count": 60,
     "metadata": {},
     "output_type": "execute_result"
    }
   ],
   "source": [
    "complete_images_dataset.head(1)"
   ]
  },
  {
   "cell_type": "code",
   "execution_count": 61,
   "id": "dense-boxing",
   "metadata": {},
   "outputs": [],
   "source": [
    "image_ids_available = os.listdir(\"data_images/CharadesEgo_v1_rgb\")"
   ]
  },
  {
   "cell_type": "code",
   "execution_count": 62,
   "id": "equal-fireplace",
   "metadata": {},
   "outputs": [],
   "source": [
    "curated_data = complete_images_dataset[complete_images_dataset[\"id\"].isin(image_ids_available)]"
   ]
  },
  {
   "cell_type": "code",
   "execution_count": 63,
   "id": "forward-wilson",
   "metadata": {},
   "outputs": [
    {
     "data": {
      "text/plain": [
       "Index(['id', 'subject', 'scene', 'quality', 'relevance', 'verified', 'script',\n",
       "       'objects', 'descriptions', 'actions', 'length', 'egocentric',\n",
       "       'charades_video'],\n",
       "      dtype='object')"
      ]
     },
     "execution_count": 63,
     "metadata": {},
     "output_type": "execute_result"
    }
   ],
   "source": [
    "curated_data.columns"
   ]
  },
  {
   "cell_type": "markdown",
   "id": "proof-compromise",
   "metadata": {},
   "source": [
    "### Column Definitions\n",
    "\n",
    "- id:\n",
    "Unique identifier for each video. This id contains 'EGO' at the end for first person videos. That is, if a third-person video has the id ABCDE then the corresponding egocentric video is ABCDEEGO\n",
    "- subject:\n",
    "Unique identifier for each subject in the dataset\n",
    "- scene:\n",
    "One of 15 indoor scenes in the dataset, such as Kitchen\n",
    "- quality:\n",
    "The quality of the video judged by an annotator (7-point scale, 7=high quality)\n",
    "- relevance: \n",
    "The relevance of the video to the script judged by an annotated (7-point scale, 7=very relevant)\n",
    "- verified:\n",
    "'Yes' if an annotator successfully verified that the video matches the script, else 'No'\n",
    "- script:\n",
    "The human-generated script used to generate the video\n",
    "- descriptions:\n",
    "Semicolon-separated list of descriptions by annotators watching the video\n",
    "- actions:  \n",
    "Semicolon-separated list of \"class start end\" triplets for each actions in the video, such as c092 11.90 21.20;c147 0.00 12.60\n",
    "- length:\n",
    "The length of the video in seconds\n",
    "- egocentric:\n",
    "'Yes' if the video is in first-person, else 'No'\n",
    "- charades_video:\n",
    "Identifier of the video in the Charades training set that has the same script to this video.'''"
   ]
  },
  {
   "cell_type": "code",
   "execution_count": 64,
   "id": "aggregate-permit",
   "metadata": {},
   "outputs": [],
   "source": [
    "considered_data = curated_data[curated_data[\"verified\"]== \"Yes\"]"
   ]
  },
  {
   "cell_type": "markdown",
   "id": "baking-terror",
   "metadata": {},
   "source": [
    "### What i am trying to do:\n",
    "\n",
    "- collect number of available images from the given id\n",
    "- then get the 3 qartile image ranges\n",
    "- then get one image from each quartile.\n",
    "- copy image, create a text file\n",
    "- text file should contain script, description, \", and .\" separated sentences into each tags\n",
    "- each line should be a new line"
   ]
  },
  {
   "cell_type": "code",
   "execution_count": 127,
   "id": "informal-puppy",
   "metadata": {},
   "outputs": [],
   "source": [
    "\n",
    "def get_three_random_images_filepath(id):\n",
    "    NUM_TO_SELECT = 30    \n",
    "    available_images = os.listdir(\"data_images/CharadesEgo_v1_rgb/\"+str(id))\n",
    "    if len(available_images) > NUM_TO_SELECT:\n",
    "        NUM_TO_SELECT = len(available_images)-1\n",
    "    random_names = random.sample(available_images, NUM_TO_SELECT)\n",
    "    file_paths = [\"data_images/CharadesEgo_v1_rgb/\"+str(id)+\"/\"+names for names in random_names]\n",
    "    \n",
    "    return file_paths, random_names"
   ]
  },
  {
   "cell_type": "code",
   "execution_count": 128,
   "id": "technical-housing",
   "metadata": {},
   "outputs": [],
   "source": [
    "regex_pattern = r\"[,.]\"\n",
    "def get_text_content(script, desc):\n",
    "    text_content = []\n",
    "    script_check_flag = 0\n",
    "    if script == desc:\n",
    "        text_content.append(script.strip())\n",
    "        script_check_flag+=1\n",
    "    else:\n",
    "        text_content.append(script.strip())\n",
    "        text_content.append(desc.strip())\n",
    "    \n",
    "    if script_check_flag:\n",
    "        tokenized_sentences = re.split(regex_pattern, script)\n",
    "        for tokens in tokenized_sentences:\n",
    "            if tokens:\n",
    "                text_content.append(tokens.strip())\n",
    "    else:\n",
    "        tokenized_sentences = re.split(regex_pattern, script)\n",
    "        tokenized_sentences += re.split(regex_pattern, script)\n",
    "        for tokens in tokenized_sentences:\n",
    "            if tokens:\n",
    "                text_content.append(tokens.strip())\n",
    "                \n",
    "    return text_content"
   ]
  },
  {
   "cell_type": "code",
   "execution_count": null,
   "id": "stuffed-recall",
   "metadata": {},
   "outputs": [],
   "source": [
    "DESTINATION_FOLDER_NAME = \"dataset_for_dalle_2nd_training\"\n",
    "for row in considered_data.itertuples(index=False):\n",
    "    \n",
    "    image_file_path, image_file_name = get_three_random_images_filepath(row[0])\n",
    "    text_content = get_text_content(row[6], row[8])\n",
    "    \n",
    "    for _img_name,_img_path in zip(image_file_name,image_file_path):\n",
    "        text_file_name = _img_name.split(\".\")[0]\n",
    "        shutil.copy(_img_path,DESTINATION_FOLDER_NAME)\n",
    "        with open(DESTINATION_FOLDER_NAME+\"/\"+text_file_name+\".txt\", \"w\") as file:\n",
    "            for i,line in enumerate(text_content):\n",
    "                if i == len(text_content)-1:\n",
    "                    file.writelines(line)\n",
    "                else:\n",
    "                    file.writelines(line+\"\\n\")"
   ]
  },
  {
   "cell_type": "code",
   "execution_count": null,
   "id": "humanitarian-fitting",
   "metadata": {},
   "outputs": [],
   "source": []
  }
 ],
 "metadata": {
  "kernelspec": {
   "display_name": "Python 3",
   "language": "python",
   "name": "python3"
  },
  "language_info": {
   "codemirror_mode": {
    "name": "ipython",
    "version": 3
   },
   "file_extension": ".py",
   "mimetype": "text/x-python",
   "name": "python",
   "nbconvert_exporter": "python",
   "pygments_lexer": "ipython3",
   "version": "3.6.12"
  }
 },
 "nbformat": 4,
 "nbformat_minor": 5
}
